{
 "cells": [
  {
   "cell_type": "code",
   "execution_count": null,
   "id": "fe9c6f7a",
   "metadata": {},
   "outputs": [],
   "source": [
    "#importing pandas\n",
    "import pandas as pd"
   ]
  },
  {
   "cell_type": "code",
   "execution_count": null,
   "id": "5eb27211",
   "metadata": {},
   "outputs": [],
   "source": [
    "#load csv files\n",
    "transaction_df = pd.read_csv('transaction_data.csv')\n",
    "customer_df = pd.read_csv('us_customer_data.csv')"
   ]
  },
  {
   "cell_type": "code",
   "execution_count": null,
   "id": "a3b18430",
   "metadata": {},
   "outputs": [],
   "source": [
    "#dropping duplicates\n",
    "transaction_df = transaction_df.drop_duplicates()\n",
    "customer_df = customer_df.drop_duplicates()"
   ]
  },
  {
   "cell_type": "code",
   "execution_count": null,
   "id": "e872a830",
   "metadata": {},
   "outputs": [],
   "source": [
    "#fixing names \n",
    "customer_df['name'] = customer_df['name'].str.title()\n",
    "customer_df['name'] = customer_df['name'].fillna('unknown')"
   ]
  },
  {
   "cell_type": "code",
   "execution_count": null,
   "id": "ab504877",
   "metadata": {},
   "outputs": [],
   "source": [
    "#fixing email\n",
    "customer_df['email'] = customer_df['email'].fillna(customer_df['name'].str.replace(' ','').str.lower()+'@example.com')"
   ]
  },
  {
   "cell_type": "code",
   "execution_count": null,
   "id": "f41564d7",
   "metadata": {},
   "outputs": [],
   "source": [
    "#fill amount with mean\n",
    "transaction_df['amount'] = transaction_df['amount'].fillna(transaction_df['amount'].mean())"
   ]
  },
  {
   "cell_type": "code",
   "execution_count": null,
   "id": "3bca84cd",
   "metadata": {},
   "outputs": [],
   "source": [
    "#create country code\n",
    "customer_df['countrycode']= customer_df['address'].str[-8:-6]"
   ]
  },
  {
   "cell_type": "code",
   "execution_count": null,
   "id": "f3821ce4",
   "metadata": {},
   "outputs": [],
   "source": [
    "#convert datatype of phone col to string \n",
    "customer_df['phone'] = customer_df['phone'].astype(str)\n",
    "customer_df['phone'] = customer_df['phone'].str.replace('-','')"
   ]
  },
  {
   "cell_type": "code",
   "execution_count": null,
   "id": "2650d4e0",
   "metadata": {},
   "outputs": [],
   "source": [
    "#fixing phone <> 10\n",
    "def fix_value(customer_df):\n",
    "    p=len(customer_df['phone'])\n",
    "    for i in range(p):\n",
    "        if len(customer_df['phone'][i])>10 or len(customer_df['phone'][i])<10:\n",
    "            customer_df['phone'][i]='0'\n",
    "        elif customer_df['countrycode'][i] == 'IN':\n",
    "            customer_df['phone'][i]='+91 '+str(customer_df['phone'][i])\n",
    "        elif customer_df['countrycode'][i] == 'AE':\n",
    "            customer_df['phone'][i]='+971 '+str(customer_df['phone'][i])\n",
    "        elif customer_df['countrycode'][i] == 'FM':\n",
    "            customer_df['phone'][i]='+691 '+str(customer_df['phone'][i])\n",
    "        elif customer_df['countrycode'][i] == 'PW':\n",
    "            customer_df['phone'][i]='+680 '+str(customer_df['phone'][i])\n",
    "        else:\n",
    "            customer_df['phone'][i]='+1 '+str(customer_df['phone'][i])  \n",
    "       \n",
    "    return customer_df\n",
    "\n",
    "filtered_csv = fix_value(customer_df)"
   ]
  },
  {
   "cell_type": "code",
   "execution_count": null,
   "id": "a13ba9e8",
   "metadata": {},
   "outputs": [],
   "source": [
    "#merged two csv into single csv\n",
    "filtered_csv = pd.merge(transaction_df,customer_df,on='customer_id')"
   ]
  },
  {
   "cell_type": "code",
   "execution_count": null,
   "id": "c22216da",
   "metadata": {},
   "outputs": [],
   "source": [
    "#converting merged file into csv\n",
    "filtered_csv.to_csv('merged_csv.csv',index=False)"
   ]
  }
 ],
 "metadata": {
  "kernelspec": {
   "display_name": "venv",
   "language": "python",
   "name": "python3"
  },
  "language_info": {
   "codemirror_mode": {
    "name": "ipython",
    "version": 3
   },
   "file_extension": ".py",
   "mimetype": "text/x-python",
   "name": "python",
   "nbconvert_exporter": "python",
   "pygments_lexer": "ipython3",
   "version": "3.11.9"
  }
 },
 "nbformat": 4,
 "nbformat_minor": 5
}
