{
 "cells": [
  {
   "cell_type": "code",
   "execution_count": null,
   "id": "6e9a1d3a",
   "metadata": {},
   "outputs": [],
   "source": [
    "# DRIVER_NAME = 'ODBC Driver 17 for SQL Server'\n",
    "# SERVER_NAME = 'DESKTOP-4AH43BG'\n",
    "# DATABASE_NAME = 'PipelineDB'\n",
    "# username = 'sa'\n",
    "# password = 'Sagar@2570'\n",
    "\n",
    "# connection_string=f\"\"\"\n",
    "# DRIVER={{{DRIVER_NAME}}};\n",
    "# SERVER={SERVER_NAME};\n",
    "# DATABASE={DATABASE_NAME};\n",
    "# Trust_Connection=yes;\n",
    "# UID={username};\n",
    "# PWD={password};\n",
    "# \"\"\"\n",
    "# conn=odbc.connect(connection_string)\n",
    "# print(conn)"
   ]
  },
  {
   "cell_type": "code",
   "execution_count": null,
   "id": "0dd09052",
   "metadata": {},
   "outputs": [],
   "source": [
    "#import required libraries\n",
    "import pandas as pd\n",
    "from sqlalchemy import create_engine\n",
    "import urllib"
   ]
  },
  {
   "cell_type": "code",
   "execution_count": null,
   "id": "f7a99c78",
   "metadata": {},
   "outputs": [],
   "source": [
    "#connecting to sql server \n",
    "username = 'sa'\n",
    "password = 'Sagar@2570'\n",
    "server = 'DESKTOP-4AH43BG'\n",
    "database = 'PipelineDB'\n",
    "driver = 'ODBC Driver 17 for SQL Server' \n",
    "\n",
    "# using sqlalchemy for connecting\n",
    "params = urllib.parse.quote_plus(\n",
    "    f\"DRIVER={{{driver}}};SERVER={server};DATABASE={database};UID={username};PWD={password}\"\n",
    ")\n",
    "\n",
    "engine = create_engine(f\"mssql+pyodbc:///?odbc_connect={params}\")\n",
    "\n",
    "# Load CSVs\n",
    "customer = pd.read_csv(\"cleaned_customer_csv.csv\")\n",
    "transaction = pd.read_csv(\"cleaned_transaction_csv.csv\")\n",
    "orders = pd.read_csv(\"order_data.csv\")\n",
    "\n",
    "\n",
    "\n"
   ]
  },
  {
   "cell_type": "code",
   "execution_count": null,
   "id": "212b47d8",
   "metadata": {},
   "outputs": [],
   "source": [
    "# Upload to sql database\n",
    "customer.to_sql('Customers', con=engine, if_exists='replace', index=False)\n",
    "transaction.to_sql('Transactions', con=engine, if_exists='replace', index=False)\n",
    "orders.to_sql('Orders', con=engine, if_exists='replace', index=False)"
   ]
  },
  {
   "cell_type": "code",
   "execution_count": null,
   "id": "53bd9434",
   "metadata": {},
   "outputs": [],
   "source": [
    "#fetching data from sql\n",
    "read_customer_sql = pd.read_sql_table('Customers',con=engine)\n",
    "read_orders_sql = pd.read_sql_table('Orders',con = engine)\n",
    "read_transactions_sql = pd.read_sql_table('Transactions',con = engine)\n"
   ]
  },
  {
   "cell_type": "code",
   "execution_count": null,
   "id": "df2ab709",
   "metadata": {},
   "outputs": [],
   "source": [
    "#merging tables\n",
    "merge_cust_order = pd.merge(read_customer_sql,read_orders_sql,on='customer_id')"
   ]
  },
  {
   "cell_type": "code",
   "execution_count": null,
   "id": "5aedf8e4",
   "metadata": {},
   "outputs": [],
   "source": [
    "#split full name into firstname and lastname \n",
    "merge_cust_order[['firstName', 'lastName']] = merge_cust_order['name'].str.split(' ', n=1, expand=True)\n",
    "merge_cust_order['lastName'] = merge_cust_order['lastName'].str.split(' ').str[0]\n"
   ]
  },
  {
   "cell_type": "code",
   "execution_count": null,
   "id": "bf40d9e0",
   "metadata": {},
   "outputs": [],
   "source": [
    "#get unique status\n",
    "merge_cust_order['loyalty_status'].unique()"
   ]
  },
  {
   "cell_type": "code",
   "execution_count": null,
   "id": "5b1920e9",
   "metadata": {},
   "outputs": [],
   "source": [
    "#mapping loyalty_status\n",
    "customer_mapping = {\n",
    "    'Gold' : 2,\n",
    "    'Silver' : 1,\n",
    "    'Bronze' : 0\n",
    "}\n",
    "\n",
    "merge_cust_order['Customer_Tier'] = merge_cust_order['loyalty_status'].map(customer_mapping)"
   ]
  },
  {
   "cell_type": "code",
   "execution_count": null,
   "id": "329bc1fe",
   "metadata": {},
   "outputs": [],
   "source": [
    "#relocating columns\n",
    "\n",
    "cols = merge_cust_order.columns.tolist()\n",
    "cols.remove('firstName')\n",
    "cols.insert(2,'firstName')\n",
    "merge_cust_order = merge_cust_order[cols]\n",
    "\n",
    "cols = merge_cust_order.columns.tolist()\n",
    "cols.remove('lastName')\n",
    "cols.insert(3,'lastName')\n",
    "merge_cust_order = merge_cust_order[cols]\n",
    "\n"
   ]
  },
  {
   "cell_type": "code",
   "execution_count": null,
   "id": "73ddf98b",
   "metadata": {},
   "outputs": [],
   "source": [
    "#pushing filtered data to sql server\n",
    "merge_cust_order.to_sql('unifiedCustomerOrders',con = engine,if_exists='replace',index=False)"
   ]
  }
 ],
 "metadata": {
  "kernelspec": {
   "display_name": "venv",
   "language": "python",
   "name": "python3"
  },
  "language_info": {
   "codemirror_mode": {
    "name": "ipython",
    "version": 3
   },
   "file_extension": ".py",
   "mimetype": "text/x-python",
   "name": "python",
   "nbconvert_exporter": "python",
   "pygments_lexer": "ipython3",
   "version": "3.11.9"
  }
 },
 "nbformat": 4,
 "nbformat_minor": 5
}
