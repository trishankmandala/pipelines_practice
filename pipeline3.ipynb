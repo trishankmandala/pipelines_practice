{
 "cells": [
  {
   "cell_type": "code",
   "execution_count": null,
   "id": "fad8f146",
   "metadata": {},
   "outputs": [],
   "source": [
    "#importing pandas\n",
    "import pandas as pd"
   ]
  },
  {
   "cell_type": "code",
   "execution_count": null,
   "id": "0cc4b839",
   "metadata": {},
   "outputs": [],
   "source": [
    "#reading csv \n",
    "df = pd.read_csv('merged_csv.csv')"
   ]
  },
  {
   "cell_type": "code",
   "execution_count": null,
   "id": "3fedcbd4",
   "metadata": {},
   "outputs": [],
   "source": [
    "#finding customers having transactions amount greater than mean amount\n",
    "high_value_transactions = df[df['amount'] > df['amount'].mean()]"
   ]
  },
  {
   "cell_type": "code",
   "execution_count": null,
   "id": "5402d044",
   "metadata": {},
   "outputs": [],
   "source": [
    "#converting to csv\n",
    "high_value_transactions.to_csv('high_value_transactions.csv',index=False)"
   ]
  }
 ],
 "metadata": {
  "kernelspec": {
   "display_name": "venv",
   "language": "python",
   "name": "python3"
  },
  "language_info": {
   "codemirror_mode": {
    "name": "ipython",
    "version": 3
   },
   "file_extension": ".py",
   "mimetype": "text/x-python",
   "name": "python",
   "nbconvert_exporter": "python",
   "pygments_lexer": "ipython3",
   "version": "3.11.9"
  }
 },
 "nbformat": 4,
 "nbformat_minor": 5
}
