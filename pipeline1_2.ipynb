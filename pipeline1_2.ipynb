{
 "cells": [
  {
   "cell_type": "code",
   "execution_count": 34,
   "id": "fe9c6f7a",
   "metadata": {},
   "outputs": [],
   "source": [
    "import pandas as pd"
   ]
  },
  {
   "cell_type": "code",
   "execution_count": 35,
   "id": "5eb27211",
   "metadata": {},
   "outputs": [],
   "source": [
    "transaction_df = pd.read_csv('transaction_data.csv')\n",
    "customer_df = pd.read_csv('us_customer_data.csv')"
   ]
  },
  {
   "cell_type": "code",
   "execution_count": 36,
   "id": "a3b18430",
   "metadata": {},
   "outputs": [],
   "source": [
    "transaction_df = transaction_df.drop_duplicates()\n",
    "customer_df = customer_df.drop_duplicates()"
   ]
  },
  {
   "cell_type": "code",
   "execution_count": 37,
   "id": "e872a830",
   "metadata": {},
   "outputs": [],
   "source": [
    "#fixing names \n",
    "customer_df['name'] = customer_df['name'].str.title()\n"
   ]
  },
  {
   "cell_type": "code",
   "execution_count": 38,
   "id": "ab504877",
   "metadata": {},
   "outputs": [],
   "source": [
    "#fixing email\n",
    "customer_df['email'] = customer_df['email'].fillna(customer_df['name'].str.replace(' ','').str.lower()+'@example.com')"
   ]
  },
  {
   "cell_type": "code",
   "execution_count": 39,
   "id": "f41564d7",
   "metadata": {},
   "outputs": [],
   "source": [
    "#fill amount with mean\n",
    "transaction_df['amount'] = transaction_df['amount'].fillna(transaction_df['amount'].mean())"
   ]
  },
  {
   "cell_type": "code",
   "execution_count": 44,
   "id": "3bca84cd",
   "metadata": {},
   "outputs": [],
   "source": [
    "#create postal code\n",
    "customer_df['postalCode']= customer_df['address'].str[-8:-6]"
   ]
  },
  {
   "cell_type": "code",
   "execution_count": 48,
   "id": "f9f37836",
   "metadata": {},
   "outputs": [
    {
     "data": {
      "text/plain": [
       "array(['AE', 'MT', 'UT', 'CA', 'OR', 'MA', 'CT', 'NC', 'WA', 'IL', 'WI',\n",
       "       'AA', 'FM', 'CO', 'AP', 'RI', 'PW', 'FL', 'IA', 'VA', 'KS', 'SD',\n",
       "       'MP', 'AL', 'MH', 'TX', 'MS', 'MD', 'NV', 'HI', 'GU', 'GA', 'ND',\n",
       "       'TN', 'ID', 'IN', 'DE', 'KY', 'NJ', 'AZ', 'MO', 'AS', 'OH', 'OK',\n",
       "       'NE', 'NY', 'DC', 'ME', 'PA', 'WY', 'VI', 'SC', 'AR', 'NH', 'PR',\n",
       "       'WV', 'AK', 'NM', 'MN', 'VT', 'MI', 'LA'], dtype=object)"
      ]
     },
     "execution_count": 48,
     "metadata": {},
     "output_type": "execute_result"
    }
   ],
   "source": [
    "customer_df['postalCode'].unique()"
   ]
  }
 ],
 "metadata": {
  "kernelspec": {
   "display_name": "venv",
   "language": "python",
   "name": "python3"
  },
  "language_info": {
   "codemirror_mode": {
    "name": "ipython",
    "version": 3
   },
   "file_extension": ".py",
   "mimetype": "text/x-python",
   "name": "python",
   "nbconvert_exporter": "python",
   "pygments_lexer": "ipython3",
   "version": "3.11.9"
  }
 },
 "nbformat": 4,
 "nbformat_minor": 5
}
