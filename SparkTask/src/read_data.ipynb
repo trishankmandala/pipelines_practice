{
 "cells": [
  {
   "cell_type": "code",
   "execution_count": null,
   "id": "2362126e",
   "metadata": {},
   "outputs": [],
   "source": [
    "from pyspark.sql import SparkSession\n",
    "import configparser\n",
    "import boto3\n",
    "import os\n",
    "\n",
    "def get_spark_session():\n",
    "    config = configparser.ConfigParser()\n",
    "    config.read(r'D:\\PythonTutorial\\config.ini')\n",
    "\n",
    "    spark = SparkSession.builder \\\n",
    "        .appName(\"ReadMultipleParquets\") \\\n",
    "        .config(\"spark.hadoop.fs.s3a.access.key\", config['AWS']['aws_access_key']) \\\n",
    "        .config(\"spark.hadoop.fs.s3a.secret.key\", config['AWS']['aws_secret_access_key']) \\\n",
    "        .config(\"spark.hadoop.fs.s3a.endpoint\", \"s3.amazonaws.com\") \\\n",
    "        .config(\"spark.hadoop.fs.s3a.impl\", \"org.apache.hadoop.fs.s3a.S3AFileSystem\") \\\n",
    "        .config(\"spark.hadoop.fs.s3a.connection.ssl.enabled\", \"true\") \\\n",
    "        .config(\"spark.hadoop.fs.s3a.path.style.access\", \"true\") \\\n",
    "        .config(\"spark.hadoop.fs.s3a.endpoint.region\", config['AWS']['region_name']) \\\n",
    "        .config(\"spark.jars.packages\", \"org.apache.hadoop:hadoop-aws:3.3.1\") \\\n",
    "        .config(\"spark.jars\", \"path/to/hadoop-aws-3.3.1.jar,path/to/aws-java-sdk-bundle-1.11.1026.jar\") \\\n",
    "        .getOrCreate()\n",
    "    \n",
    "    return spark, config\n",
    "\n",
    "def list_parquet_files(bucket_name, prefix, aws_access_key, aws_secret_access_key, region_name):\n",
    "    s3 = boto3.client(\n",
    "        's3',\n",
    "        aws_access_key_id = aws_access_key,\n",
    "        aws_secret_access_key = aws_secret_access_key,\n",
    "        region_name = region_name\n",
    "    )\n",
    "    \n",
    "    response = s3.list_objects_v2(Bucket=bucket_name, Prefix=prefix)\n",
    "    files = [item['Key'] for item in response.get('Contents', []) if item['Key'].endswith('.parquet')]\n",
    "    return files\n",
    "\n",
    "def read_parquet_files_separately():\n",
    "    spark, config = get_spark_session()\n",
    "    bucket_name = 'sharepoint-parquet'\n",
    "    prefix = 'parquet_files/'\n",
    "\n",
    "    aws_access_key = config['AWS']['aws_access_key']\n",
    "    aws_secret_access_key = config['AWS']['aws_secret_access_key']\n",
    "    region_name = config['AWS']['region_name']\n",
    "\n",
    "    files = list_parquet_files(bucket_name, prefix, aws_access_key, aws_secret_access_key, region_name)\n",
    "\n",
    "    dataframes = {}\n",
    "\n",
    "    for file_key in files:\n",
    "        file_name = os.path.basename(file_key).split(\".\")[0]  # e.g., housing.parquet -> housing\n",
    "        s3_path = f\"s3a://{bucket_name}/{file_key}\"\n",
    "        df = spark.read.parquet(s3_path)\n",
    "        dataframes[file_name] = df\n",
    "        print(f\"Loaded DataFrame for: {file_name} with {df.count()} rows\")\n",
    "\n",
    "    return dataframes\n"
   ]
  },
  {
   "cell_type": "code",
   "execution_count": 11,
   "id": "0ef20203",
   "metadata": {},
   "outputs": [
    {
     "name": "stdout",
     "output_type": "stream",
     "text": [
      "Loaded DataFrame for: house-price with 545 rows\n",
      "Loaded DataFrame for: weather with 366 rows\n",
      "{'house-price': DataFrame[price: bigint, area: bigint, bedrooms: bigint, bathrooms: bigint, stories: bigint, mainroad: string, guestroom: string, basement: string, hotwaterheating: string, airconditioning: string, parking: bigint, prefarea: string, furnishingstatus: string], 'weather': DataFrame[MinTemp: double, MaxTemp: double, Rainfall: double, Evaporation: double, Sunshine: string, WindGustDir: string, WindGustSpeed: string, WindDir9am: string, WindDir3pm: string, WindSpeed9am: string, WindSpeed3pm: bigint, Humidity9am: bigint, Humidity3pm: bigint, Pressure9am: double, Pressure3pm: double, Cloud9am: bigint, Cloud3pm: bigint, Temp9am: double, Temp3pm: double, RainToday: string, RISK_MM: double, RainTomorrow: string]}\n"
     ]
    }
   ],
   "source": [
    "data = read_parquet_files_separately()\n",
    "\n",
    "print(data)"
   ]
  },
  {
   "cell_type": "code",
   "execution_count": 9,
   "id": "ba52e23c",
   "metadata": {},
   "outputs": [
    {
     "name": "stdout",
     "output_type": "stream",
     "text": [
      "+-------+-------+--------+-----------+--------+-----------+-------------+----------+----------+------------+------------+-----------+-----------+-----------+-----------+--------+--------+-------+-------+---------+-------+------------+\n",
      "|MinTemp|MaxTemp|Rainfall|Evaporation|Sunshine|WindGustDir|WindGustSpeed|WindDir9am|WindDir3pm|WindSpeed9am|WindSpeed3pm|Humidity9am|Humidity3pm|Pressure9am|Pressure3pm|Cloud9am|Cloud3pm|Temp9am|Temp3pm|RainToday|RISK_MM|RainTomorrow|\n",
      "+-------+-------+--------+-----------+--------+-----------+-------------+----------+----------+------------+------------+-----------+-----------+-----------+-----------+--------+--------+-------+-------+---------+-------+------------+\n",
      "|    8.0|   24.3|     0.0|        3.4|     6.3|         NW|           30|        SW|        NW|           6|          20|         68|         29|     1019.7|     1015.0|       7|       7|   14.4|   23.6|       No|    3.6|         Yes|\n",
      "|   14.0|   26.9|     3.6|        4.4|     9.7|        ENE|           39|         E|         W|           4|          17|         80|         36|     1012.4|     1008.4|       5|       3|   17.5|   25.7|      Yes|    3.6|         Yes|\n",
      "|   13.7|   23.4|     3.6|        5.8|     3.3|         NW|           85|         N|       NNE|           6|           6|         82|         69|     1009.5|     1007.2|       8|       7|   15.4|   20.2|      Yes|   39.8|         Yes|\n",
      "|   13.3|   15.5|    39.8|        7.2|     9.1|         NW|           54|       WNW|         W|          30|          24|         62|         56|     1005.5|     1007.0|       2|       7|   13.5|   14.1|      Yes|    2.8|         Yes|\n",
      "|    7.6|   16.1|     2.8|        5.6|    10.6|        SSE|           50|       SSE|       ESE|          20|          28|         68|         49|     1018.3|     1018.5|       7|       7|   11.1|   15.4|      Yes|    0.0|          No|\n",
      "|    6.2|   16.9|     0.0|        5.8|     8.2|         SE|           44|        SE|         E|          20|          24|         70|         57|     1023.8|     1021.7|       7|       5|   10.9|   14.8|       No|    0.2|          No|\n",
      "|    6.1|   18.2|     0.2|        4.2|     8.4|         SE|           43|        SE|       ESE|          19|          26|         63|         47|     1024.6|     1022.2|       4|       6|   12.4|   17.3|       No|    0.0|          No|\n",
      "|    8.3|   17.0|     0.0|        5.6|     4.6|          E|           41|        SE|         E|          11|          24|         65|         57|     1026.2|     1024.2|       6|       7|   12.1|   15.5|       No|    0.0|          No|\n",
      "|    8.8|   19.5|     0.0|        4.0|     4.1|          S|           48|         E|       ENE|          19|          17|         70|         48|     1026.1|     1022.7|       7|       7|   14.1|   18.9|       No|   16.2|         Yes|\n",
      "|    8.4|   22.8|    16.2|        5.4|     7.7|          E|           31|         S|       ESE|           7|           6|         82|         32|     1024.1|     1020.7|       7|       1|   13.3|   21.7|      Yes|    0.0|          No|\n",
      "|    9.1|   25.2|     0.0|        4.2|    11.9|          N|           30|        SE|        NW|           6|           9|         74|         34|     1024.4|     1021.1|       1|       2|   14.6|   24.0|       No|    0.2|          No|\n",
      "|    8.5|   27.3|     0.2|        7.2|    12.5|          E|           41|         E|        NW|           2|          15|         54|         35|     1023.8|     1019.9|       0|       3|   16.8|   26.0|       No|    0.0|          No|\n",
      "|   10.1|   27.9|     0.0|        7.2|      13|        WNW|           30|         S|        NW|           6|           7|         62|         29|     1022.0|     1017.1|       0|       1|   17.0|   27.1|       No|    0.0|          No|\n",
      "|   12.1|   30.9|     0.0|        6.2|    12.4|         NW|           44|       WNW|         W|           7|          20|         67|         20|     1017.3|     1013.1|       1|       4|   19.7|   30.7|       No|    0.0|          No|\n",
      "|   10.1|   31.2|     0.0|        8.8|    13.1|         NW|           41|         S|         W|           6|          20|         45|         16|     1018.2|     1013.7|       0|       1|   18.7|   30.4|       No|    0.0|          No|\n",
      "|   12.4|   32.1|     0.0|        8.4|    11.1|          E|           46|        SE|       WSW|           7|           9|         70|         22|     1017.9|     1012.8|       0|       3|   19.1|   30.7|       No|    0.0|          No|\n",
      "|   13.8|   31.2|     0.0|        7.2|     8.4|        ESE|           44|       WSW|         W|           6|          19|         72|         23|     1014.4|     1009.8|       7|       6|   20.2|   29.8|       No|    1.2|         Yes|\n",
      "|   11.7|   30.0|     1.2|        7.2|    10.1|          S|           52|        SW|        NE|           6|          11|         59|         26|     1016.4|     1013.0|       1|       5|   20.1|   28.6|      Yes|    0.6|          No|\n",
      "|   12.4|   32.3|     0.6|        7.4|      13|          E|           39|       NNE|         W|           4|          17|         60|         25|     1017.1|     1013.3|       1|       3|   20.2|   31.2|       No|    0.0|          No|\n",
      "|   15.6|   33.4|     0.0|        8.0|    10.4|         NE|           33|       NNW|       NNW|           2|          13|         61|         27|     1018.5|     1013.7|       0|       1|   22.8|   32.0|       No|    0.0|          No|\n",
      "+-------+-------+--------+-----------+--------+-----------+-------------+----------+----------+------------+------------+-----------+-----------+-----------+-----------+--------+--------+-------+-------+---------+-------+------------+\n",
      "only showing top 20 rows\n",
      "\n"
     ]
    }
   ],
   "source": [
    "data['weather'].show()"
   ]
  }
 ],
 "metadata": {
  "kernelspec": {
   "display_name": "venv",
   "language": "python",
   "name": "python3"
  },
  "language_info": {
   "codemirror_mode": {
    "name": "ipython",
    "version": 3
   },
   "file_extension": ".py",
   "mimetype": "text/x-python",
   "name": "python",
   "nbconvert_exporter": "python",
   "pygments_lexer": "ipython3",
   "version": "3.11.9"
  }
 },
 "nbformat": 4,
 "nbformat_minor": 5
}
